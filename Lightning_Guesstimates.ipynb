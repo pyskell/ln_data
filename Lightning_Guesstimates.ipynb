{
 "cells": [
  {
   "cell_type": "code",
   "execution_count": null,
   "metadata": {},
   "outputs": [],
   "source": []
  },
  {
   "cell_type": "code",
   "execution_count": 2,
   "metadata": {
    "scrolled": false
   },
   "outputs": [],
   "source": [
    "from riemann import tx as rtx\n",
    "from riemann import utils\n",
    "from datetime import datetime, timezone\n",
    "import pandas as pd\n",
    "# from sqlalchemy import create_engine\n",
    "# from sqlalchemy import Column, Integer, Text, MetaData, Table, String\n",
    "\n",
    "# engine = create_engine('sqlite://')\n",
    "# df = pd.DataFrame(columns=['txid', 'block_height', 'input_num', 'output_num', 'output_val', 'witness_idx', 'witness_data'])\n",
    "# witness_data = Table(\n",
    "#     Column('txid', String)\n",
    "#     Column\n",
    "# )\n",
    "\n",
    "# Can specify m-of-n to get specific multisig type\n",
    "# Use bytestrings for m-of-n b'\\x52'\n",
    "def get_multisig_witnesses(blocks, m=None, n=None):\n",
    "    witness_data = []\n",
    "    for block in blocks:\n",
    "        block_height = block.height\n",
    "        timestamp = block.header.timestamp.replace(tzinfo=timezone.utc).timestamp()\n",
    "\n",
    "        for tx in block.transactions:\n",
    "            if not tx.is_segwit:\n",
    "                continue\n",
    "\n",
    "            try:\n",
    "                dtx = rtx.Tx.from_bytes(tx.hex)     \n",
    "            except:\n",
    "                print(f'Transaction errored. Txid: {tx.txid} Hex: {tx.hex}')   \n",
    "                continue\n",
    "\n",
    "            # LN multisigs have Segwit version 00 at the start of the stack\n",
    "            if dtx and len(dtx.tx_witnesses[0].stack) > 0 and (dtx.tx_witnesses[0].stack[0] != b'\\x00'):\n",
    "                continue    \n",
    "\n",
    "            txid = tx.txid\n",
    "            input_num = tx.n_inputs\n",
    "            output_num = tx.n_outputs\n",
    "\n",
    "            # FIX: This is the total value of the transaction but should be the value of each individual output\n",
    "            output_val = sum(utils.le2i(out.value) for out in dtx.tx_outs)\n",
    "\n",
    "            for witness_idx, witness in enumerate(dtx.tx_witnesses):\n",
    "                if len(witness.stack) == 0:\n",
    "                    continue\n",
    "\n",
    "                witness_script = witness.stack[-1].to_bytes()\n",
    "\n",
    "                # Make sure script ends with op_checkmultisig                \n",
    "                if witness_script[-1:] != b'\\xAE':\n",
    "                    continue \n",
    "\n",
    "                multisig_m = witness_script[1:2]\n",
    "                if m and multisig_m != m:\n",
    "                    continue\n",
    "                    \n",
    "                multisig_n = witness_script[-2:-1]\n",
    "                if n and multisig_n != n:\n",
    "                    continue\n",
    "                \n",
    "#                 outpoint_txid = dtx.tx_ins[witness_idx].outpoint.tx_id\n",
    "#                 input_val = \n",
    "                for data in witness.stack:\n",
    "                    witness_data.append({'@timestamp' : timestamp,\n",
    "                               'txid' : txid,\n",
    "                               'block_height' : block_height,\n",
    "                               'input_num' : input_num,\n",
    "#                                'input_val' : input_val,\n",
    "                               'output_num' : output_num,\n",
    "                               'output_val' : output_val,\n",
    "                               'witness_idx' : witness_idx, \n",
    "                               'witness_data' : data.hex()})\n",
    "\n",
    "    return witness_data"
   ]
  },
  {
   "cell_type": "code",
   "execution_count": 3,
   "metadata": {
    "scrolled": false
   },
   "outputs": [
    {
     "name": "stdout",
     "output_type": "stream",
     "text": [
      "Getting blocks 507000 to 507099\n",
      "Writing blocks 507000 to 507099\n"
     ]
    },
    {
     "ename": "ValueError",
     "evalue": "dict contains fields not in fieldnames: '@timestamp'",
     "output_type": "error",
     "traceback": [
      "\u001b[0;31m---------------------------------------------------------------------------\u001b[0m",
      "\u001b[0;31mValueError\u001b[0m                                Traceback (most recent call last)",
      "\u001b[0;32m<ipython-input-3-442a1f6a49db>\u001b[0m in \u001b[0;36m<module>\u001b[0;34m\u001b[0m\n\u001b[1;32m     21\u001b[0m         \u001b[0mprint\u001b[0m\u001b[0;34m(\u001b[0m\u001b[0;34mf'Writing blocks {i} to {i+step-1}'\u001b[0m\u001b[0;34m)\u001b[0m\u001b[0;34m\u001b[0m\u001b[0;34m\u001b[0m\u001b[0m\n\u001b[1;32m     22\u001b[0m         \u001b[0;32mfor\u001b[0m \u001b[0mdata\u001b[0m \u001b[0;32min\u001b[0m \u001b[0mwitness_data\u001b[0m\u001b[0;34m:\u001b[0m\u001b[0;34m\u001b[0m\u001b[0;34m\u001b[0m\u001b[0m\n\u001b[0;32m---> 23\u001b[0;31m             \u001b[0mwriter\u001b[0m\u001b[0;34m.\u001b[0m\u001b[0mwriterow\u001b[0m\u001b[0;34m(\u001b[0m\u001b[0mdata\u001b[0m\u001b[0;34m)\u001b[0m\u001b[0;34m\u001b[0m\u001b[0;34m\u001b[0m\u001b[0m\n\u001b[0m",
      "\u001b[0;32m~/.pyenv/versions/3.7.5/lib/python3.7/csv.py\u001b[0m in \u001b[0;36mwriterow\u001b[0;34m(self, rowdict)\u001b[0m\n\u001b[1;32m    153\u001b[0m \u001b[0;34m\u001b[0m\u001b[0m\n\u001b[1;32m    154\u001b[0m     \u001b[0;32mdef\u001b[0m \u001b[0mwriterow\u001b[0m\u001b[0;34m(\u001b[0m\u001b[0mself\u001b[0m\u001b[0;34m,\u001b[0m \u001b[0mrowdict\u001b[0m\u001b[0;34m)\u001b[0m\u001b[0;34m:\u001b[0m\u001b[0;34m\u001b[0m\u001b[0;34m\u001b[0m\u001b[0m\n\u001b[0;32m--> 155\u001b[0;31m         \u001b[0;32mreturn\u001b[0m \u001b[0mself\u001b[0m\u001b[0;34m.\u001b[0m\u001b[0mwriter\u001b[0m\u001b[0;34m.\u001b[0m\u001b[0mwriterow\u001b[0m\u001b[0;34m(\u001b[0m\u001b[0mself\u001b[0m\u001b[0;34m.\u001b[0m\u001b[0m_dict_to_list\u001b[0m\u001b[0;34m(\u001b[0m\u001b[0mrowdict\u001b[0m\u001b[0;34m)\u001b[0m\u001b[0;34m)\u001b[0m\u001b[0;34m\u001b[0m\u001b[0;34m\u001b[0m\u001b[0m\n\u001b[0m\u001b[1;32m    156\u001b[0m \u001b[0;34m\u001b[0m\u001b[0m\n\u001b[1;32m    157\u001b[0m     \u001b[0;32mdef\u001b[0m \u001b[0mwriterows\u001b[0m\u001b[0;34m(\u001b[0m\u001b[0mself\u001b[0m\u001b[0;34m,\u001b[0m \u001b[0mrowdicts\u001b[0m\u001b[0;34m)\u001b[0m\u001b[0;34m:\u001b[0m\u001b[0;34m\u001b[0m\u001b[0;34m\u001b[0m\u001b[0m\n",
      "\u001b[0;32m~/.pyenv/versions/3.7.5/lib/python3.7/csv.py\u001b[0m in \u001b[0;36m_dict_to_list\u001b[0;34m(self, rowdict)\u001b[0m\n\u001b[1;32m    149\u001b[0m             \u001b[0;32mif\u001b[0m \u001b[0mwrong_fields\u001b[0m\u001b[0;34m:\u001b[0m\u001b[0;34m\u001b[0m\u001b[0;34m\u001b[0m\u001b[0m\n\u001b[1;32m    150\u001b[0m                 raise ValueError(\"dict contains fields not in fieldnames: \"\n\u001b[0;32m--> 151\u001b[0;31m                                  + \", \".join([repr(x) for x in wrong_fields]))\n\u001b[0m\u001b[1;32m    152\u001b[0m         \u001b[0;32mreturn\u001b[0m \u001b[0;34m(\u001b[0m\u001b[0mrowdict\u001b[0m\u001b[0;34m.\u001b[0m\u001b[0mget\u001b[0m\u001b[0;34m(\u001b[0m\u001b[0mkey\u001b[0m\u001b[0;34m,\u001b[0m \u001b[0mself\u001b[0m\u001b[0;34m.\u001b[0m\u001b[0mrestval\u001b[0m\u001b[0;34m)\u001b[0m \u001b[0;32mfor\u001b[0m \u001b[0mkey\u001b[0m \u001b[0;32min\u001b[0m \u001b[0mself\u001b[0m\u001b[0;34m.\u001b[0m\u001b[0mfieldnames\u001b[0m\u001b[0;34m)\u001b[0m\u001b[0;34m\u001b[0m\u001b[0;34m\u001b[0m\u001b[0m\n\u001b[1;32m    153\u001b[0m \u001b[0;34m\u001b[0m\u001b[0m\n",
      "\u001b[0;31mValueError\u001b[0m: dict contains fields not in fieldnames: '@timestamp'"
     ]
    }
   ],
   "source": [
    "# For making csvs\n",
    "import os\n",
    "import csv\n",
    "from blockchain_parser.blockchain import Blockchain\n",
    "\n",
    "blockchain = Blockchain(os.path.expanduser('/mnt/volume_nyc1_03/blocks/blocks/'))\n",
    "\n",
    "start = 507000\n",
    "end = 507300\n",
    "with open(f'multisig_witnesses_{start}_{end}.csv', 'w', buffering=1, newline='') as csvfile:\n",
    "    fieldnames = ['txid', 'block_height', 'input_num', 'output_num', 'output_val', 'witness_idx', 'witness_data']\n",
    "    writer = csv.DictWriter(csvfile, fieldnames=fieldnames)\n",
    "    writer.writeheader()\n",
    "    \n",
    "    step = 100\n",
    "    for i in range(start, end, step):\n",
    "        print(f'Getting blocks {i} to {i+step-1}')\n",
    "        blocks = blockchain.get_ordered_blocks(os.path.expanduser('~/.bitcoin/blocks/index'), start=i, end=i+step-1)\n",
    "        witness_data = get_multisig_witnesses(blocks, m=b'\\x52', n=b'\\x52')\n",
    "        \n",
    "        print(f'Writing blocks {i} to {i+step-1}')\n",
    "        for data in witness_data:\n",
    "            writer.writerow(data)"
   ]
  },
  {
   "cell_type": "code",
   "execution_count": null,
   "metadata": {},
   "outputs": [],
   "source": [
    "# For testing\n",
    "import os\n",
    "from blockchain_parser.blockchain import Blockchain\n",
    "\n",
    "blockchain = Blockchain(os.path.expanduser('/mnt/volume_nyc1_03/blocks/blocks/'))\n",
    "start = 507000\n",
    "end = 507001\n",
    "\n",
    "blocks = blockchain.get_ordered_blocks(os.path.expanduser('~/.bitcoin/blocks/index'), start=start, end=end, cache=f'index-cache_{start}_{end}.pickle')\n",
    "result = get_multisig_witnesses(blocks, m=b'\\x52', n=b'\\x52')\n",
    "\n",
    "display(result)"
   ]
  },
  {
   "cell_type": "code",
   "execution_count": null,
   "metadata": {},
   "outputs": [],
   "source": []
  }
 ],
 "metadata": {
  "kernelspec": {
   "display_name": "Python 3",
   "language": "python",
   "name": "python3"
  },
  "language_info": {
   "codemirror_mode": {
    "name": "ipython",
    "version": 3
   },
   "file_extension": ".py",
   "mimetype": "text/x-python",
   "name": "python",
   "nbconvert_exporter": "python",
   "pygments_lexer": "ipython3",
   "version": "3.7.5"
  }
 },
 "nbformat": 4,
 "nbformat_minor": 2
}
